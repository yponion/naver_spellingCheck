{
 "cells": [
  {
   "cell_type": "code",
   "execution_count": 4,
   "id": "8f915fae-8e7b-4715-b1bb-f9e2ee2891e7",
   "metadata": {},
   "outputs": [
    {
     "name": "stdout",
     "output_type": "stream",
     "text": [
      "안녕하세요. 반갑습니다.\n"
     ]
    }
   ],
   "source": [
    "from selenium import webdriver\n",
    "from selenium.webdriver.common.keys import Keys\n",
    "from selenium.webdriver.common.by import By\n",
    "import time\n",
    "from bs4 import BeautifulSoup as bs\n",
    "\n",
    "dv = webdriver.Chrome()\n",
    "dv.get(\"https://www.naver.com\")\n",
    "\n",
    "elem = dv.find_element(By.NAME, \"query\")\n",
    "elem.send_keys(\"맞춤법 검사기\")\n",
    "elem.send_keys(Keys.RETURN)\n",
    "\n",
    "time.sleep(1)\n",
    "elem = dv.find_element(By.CLASS_NAME, \"txt_gray\")\n",
    "elem.send_keys(\"안녕하세요. 반갑숩니다.\")\n",
    "\n",
    "elem = dv.find_element(By.CLASS_NAME, \"btn_check\")\n",
    "elem.click()\n",
    "\n",
    "time.sleep(1)\n",
    "soup = bs(dv.page_source, 'html.parser')\n",
    "print(soup.select(\"p._result_text.stand_txt\")[0].text)"
   ]
  },
  {
   "cell_type": "code",
   "execution_count": null,
   "id": "479cbd53-48d0-4434-9a37-413cadbcdc9a",
   "metadata": {},
   "outputs": [],
   "source": []
  }
 ],
 "metadata": {
  "kernelspec": {
   "display_name": "Python 3 (ipykernel)",
   "language": "python",
   "name": "python3"
  },
  "language_info": {
   "codemirror_mode": {
    "name": "ipython",
    "version": 3
   },
   "file_extension": ".py",
   "mimetype": "text/x-python",
   "name": "python",
   "nbconvert_exporter": "python",
   "pygments_lexer": "ipython3",
   "version": "3.9.12"
  }
 },
 "nbformat": 4,
 "nbformat_minor": 5
}
